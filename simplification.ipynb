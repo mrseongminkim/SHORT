{
 "cells": [
  {
   "cell_type": "code",
   "execution_count": 376,
   "metadata": {},
   "outputs": [],
   "source": [
    "from utils.random_nfa_generator import generate\n",
    "from utils.heuristics import *\n",
    "\n",
    "import numpy as np\n",
    "\n",
    "from copy import copy as copy2\n",
    "\n",
    "from queue import PriorityQueue\n",
    "from random import shuffle\n",
    "\n",
    "import networkx as nx\n",
    "from FAdo.conversions import *\n",
    "from FAdo.reex import *\n",
    "\n",
    "from utils.fadomata import *\n"
   ]
  },
  {
   "cell_type": "code",
   "execution_count": 377,
   "metadata": {},
   "outputs": [],
   "source": [
    "n = np.random.randint(3, 6)  # np.random.randint(3, maxN)\n",
    "k = 5  # np.random.choice([2, 5, 10])\n",
    "d = np.random.choice([0.2, 0.5])\n",
    "gfa = generate(n, k, d, 'in-memory')\n"
   ]
  },
  {
   "cell_type": "code",
   "execution_count": 394,
   "metadata": {},
   "outputs": [],
   "source": [
    "def is_epsilon(re):\n",
    "    if str(re) == '@epsilon':\n",
    "        return True\n",
    "    else:\n",
    "        return False\n",
    "    \n",
    "def eliminate_new(gfa: GFA, st: int):\n",
    "    \"\"\"Eliminate a state.\n",
    "\n",
    "    :param int st: state to be eliminated\"\"\"\n",
    "    if st in gfa.delta and st in gfa.delta[st]:\n",
    "        if type(gfa.delta[st][st]) == reex.CStar:\n",
    "            r2 = copy2(gfa.delta[st][st])\n",
    "        r2 = copy2(reex.CStar(gfa.delta[st][st], copy2(gfa.Sigma)))\n",
    "        del gfa.delta[st][st]\n",
    "    else:\n",
    "        r2 = None\n",
    "    for s in gfa.delta:\n",
    "        if st not in gfa.delta[s]:\n",
    "            continue\n",
    "        r1 = copy2(gfa.delta[s][st])\n",
    "        \n",
    "        del gfa.delta[s][st]\n",
    "        for s1 in gfa.delta[st]:\n",
    "            r3 = copy2(gfa.delta[st][s1])\n",
    "            if r2 is not None:\n",
    "                if r1 == r2 or r2 == r3:\n",
    "                    r = reex.CConcat(\n",
    "                        r1, r3, copy2(gfa.Sigma))\n",
    "                elif is_epsilon(r1):\n",
    "                    if is_epsilon(r3):\n",
    "                        r = r2\n",
    "                    else:\n",
    "                        r = reex.CConcat(r2, r3, copy2(gfa.Sigma))\n",
    "                elif is_epsilon(r3):\n",
    "                    r = reex.CConcat(r1, r2, copy2(gfa.Sigma))\n",
    "                else:\n",
    "                    r = reex.CConcat(r1, reex.CConcat(\n",
    "                        r2, r3, copy2(gfa.Sigma)), copy2(gfa.Sigma))\n",
    "            else:\n",
    "                if is_epsilon(r1):\n",
    "                    r = r3\n",
    "                elif is_epsilon(r3):\n",
    "                    r = r1\n",
    "                else:\n",
    "                    r = reex.CConcat(\n",
    "                        r1, r3, copy2(gfa.Sigma))\n",
    "                \n",
    "            if s1 in gfa.delta[s]:\n",
    "                if gfa.delta[s][s1] == r:\n",
    "                    gfa.delta[s][s1] = r\n",
    "                elif is_epsilon(r) and type(gfa.delta[s][s1]) == reex.CStar:\n",
    "                    gfa.delta[s][s1] = gfa.delta[s][s1]\n",
    "                elif is_epsilon(gfa.delta[s][s1]) and type(r) == reex.CStar:\n",
    "                    gfa.delta[s][s1] = r\n",
    "                else:\n",
    "                    if str(gfa.delta[s][s1]) > str(r):\n",
    "                        gfa.delta[s][s1] = reex.CDisj(\n",
    "                            r, gfa.delta[s][s1], copy2(gfa.Sigma))\n",
    "                    else:\n",
    "                        gfa.delta[s][s1] = reex.CDisj(\n",
    "                            gfa.delta[s][s1], r, copy2(gfa.Sigma))\n",
    "            else:\n",
    "                gfa.delta[s][s1] = r\n",
    "    del gfa.delta[st]\n",
    "\n",
    "\n",
    "def eliminate_by_state_weight_heuristic_new(gfa: GFA) -> RegExp:\n",
    "    pq = PriorityQueue()\n",
    "    for i in range(1, len(gfa.States) - 1):\n",
    "        pq.put((get_weight(gfa, i), i))\n",
    "    while not pq.empty():\n",
    "        eliminate_new(gfa, pq.get()[1])\n",
    "        # gfa.eliminate(pq.get()[1])\n",
    "    if gfa.Initial in gfa.delta and gfa.Initial in gfa.delta[gfa.Initial]:\n",
    "        return CConcat(CStar(gfa.delta[gfa.Initial][gfa.Initial]), gfa.delta[gfa.Initial][list(gfa.Final)[0]])\n",
    "    else:\n",
    "        return gfa.delta[gfa.Initial][list(gfa.Final)[0]]\n"
   ]
  },
  {
   "cell_type": "code",
   "execution_count": 395,
   "metadata": {},
   "outputs": [
    {
     "name": "stdout",
     "output_type": "stream",
     "text": [
      "119\n",
      "r1:  4 + 3 r2:  4 1\n",
      "r1:  (0 + 2) + 4 r2:  0 (2* ((4 + 3) + (4 1)))\n",
      "r1:  @epsilon r2:  0 (2* 4)\n",
      "r1:  @epsilon r2:  1 ((((0 + 2) + 4) + (0 (2* ((4 + 3) + (4 1)))))* ((0 (2* 4)) + @epsilon))\n",
      "86\n"
     ]
    }
   ],
   "source": [
    "gfa_dup = gfa.dup()\n",
    "print(len(str(eliminate_by_state_weight_heuristic(gfa_dup))))\n",
    "gfa_dup = gfa.dup()\n",
    "print(len(str(eliminate_by_state_weight_heuristic_new(gfa_dup))))\n"
   ]
  },
  {
   "cell_type": "code",
   "execution_count": 388,
   "metadata": {},
   "outputs": [],
   "source": [
    "gfa_dup = gfa.dup()\n",
    "r1 = eliminate_by_repeated_state_weight_heuristic(gfa_dup)"
   ]
  },
  {
   "cell_type": "code",
   "execution_count": 389,
   "metadata": {},
   "outputs": [],
   "source": [
    "gfa_dup = gfa.dup()\n",
    "r2 = eliminate_by_state_weight_heuristic_new(gfa_dup)\n"
   ]
  },
  {
   "cell_type": "code",
   "execution_count": 390,
   "metadata": {},
   "outputs": [
    {
     "data": {
      "text/plain": [
       "'(@epsilon @epsilon) + ((@epsilon 1) ((((0 + 2) + 4) + (0 (2* ((4 + 3) + (4 1)))))* (@epsilon + (0 (2* (4 @epsilon))))))'"
      ]
     },
     "execution_count": 390,
     "metadata": {},
     "output_type": "execute_result"
    }
   ],
   "source": [
    "str(r1)"
   ]
  },
  {
   "cell_type": "code",
   "execution_count": 391,
   "metadata": {},
   "outputs": [
    {
     "data": {
      "text/plain": [
       "'(1 ((((0 + 2) + 4) + (0 (2* ((4 + 3) + (4 1)))))* ((0 (2* 4)) + @epsilon))) + @epsilon'"
      ]
     },
     "execution_count": 391,
     "metadata": {},
     "output_type": "execute_result"
    }
   ],
   "source": [
    "str(r2)"
   ]
  },
  {
   "cell_type": "code",
   "execution_count": 385,
   "metadata": {},
   "outputs": [
    {
     "data": {
      "text/plain": [
       "CDisj(CConcat(CAtom(1),CConcat(CStar(CDisj(CDisj(CDisj(CAtom(0),CAtom(2)),CAtom(4)),CConcat(CAtom(0),CConcat(CStar(CAtom(2)),CDisj(CDisj(CAtom(4),CAtom(3)),CConcat(CAtom(4),CAtom(1))))))),CDisj(CConcat(CAtom(0),CConcat(CStar(CAtom(2)),CAtom(4))),CEpsilon()))),CEpsilon())"
      ]
     },
     "execution_count": 385,
     "metadata": {},
     "output_type": "execute_result"
    }
   ],
   "source": [
    "r2"
   ]
  },
  {
   "cell_type": "code",
   "execution_count": null,
   "metadata": {},
   "outputs": [],
   "source": []
  }
 ],
 "metadata": {
  "kernelspec": {
   "display_name": "venv38",
   "language": "python",
   "name": "python3"
  },
  "language_info": {
   "codemirror_mode": {
    "name": "ipython",
    "version": 3
   },
   "file_extension": ".py",
   "mimetype": "text/x-python",
   "name": "python",
   "nbconvert_exporter": "python",
   "pygments_lexer": "ipython3",
   "version": "3.8.0"
  },
  "orig_nbformat": 4
 },
 "nbformat": 4,
 "nbformat_minor": 2
}
