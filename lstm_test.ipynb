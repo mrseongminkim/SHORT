{
 "cells": [
  {
   "cell_type": "code",
   "execution_count": 10,
   "metadata": {},
   "outputs": [
    {
     "name": "stdout",
     "output_type": "stream",
     "text": [
      "forward: tensor([-0.0046,  0.0034,  0.0142, -0.0390, -0.0061,  0.0590,  0.0453,  0.0470,\n",
      "         0.0756,  0.0616,  0.0643,  0.0199,  0.0038,  0.0139,  0.0319,  0.0478,\n",
      "         0.0613,  0.0674,  0.0688,  0.0692,  0.0694,  0.0696,  0.0703,  0.0716,\n",
      "         0.0728,  0.0721,  0.0694,  0.0680,  0.0690,  0.0708,  0.0723,  0.0732,\n",
      "         0.0737,  0.0738,  0.0737,  0.0735,  0.0731,  0.0726,  0.0721,  0.0715,\n",
      "         0.0709,  0.0701,  0.0694,  0.0686,  0.0678,  0.0673,  0.0673,  0.0664,\n",
      "         0.0639,  0.0582], grad_fn=<MeanBackward1>)\n",
      "backward: tensor([-0.0002,  0.0647,  0.0874,  0.0366,  0.0336,  0.0353,  0.0308,  0.0292,\n",
      "         0.0296,  0.0282,  0.0226,  0.0130,  0.0033,  0.0015,  0.0090,  0.0220,\n",
      "         0.0455,  0.0727,  0.0737,  0.0584,  0.0482,  0.0486,  0.0539,  0.0548,\n",
      "         0.0527,  0.0504,  0.0482,  0.0469,  0.0464,  0.0461,  0.0459,  0.0458,\n",
      "         0.0457,  0.0456,  0.0455,  0.0454,  0.0453,  0.0452,  0.0450,  0.0448,\n",
      "         0.0446,  0.0444,  0.0442,  0.0440,  0.0438,  0.0440,  0.0446,  0.0446,\n",
      "         0.0435,  0.0405], grad_fn=<MeanBackward1>)\n",
      "temp: tensor([0.0179, 0.0525, 0.0261, 0.0038, 0.0048, 0.0051, 0.0058, 0.0065, 0.0072,\n",
      "        0.0082, 0.0090, 0.0098, 0.0106, 0.0117, 0.0132, 0.0150, 0.0171, 0.0191,\n",
      "        0.0215, 0.0246, 0.0284, 0.0326, 0.0361, 0.0384, 0.0424, 0.0471, 0.0506,\n",
      "        0.0532, 0.0553, 0.0571, 0.0585, 0.0595, 0.0600, 0.0601, 0.0595, 0.0581,\n",
      "        0.0554, 0.0516, 0.0474, 0.0423, 0.0369, 0.0365, 0.0391, 0.0378, 0.0307,\n",
      "        0.0239, 0.0266, 0.0367, 0.0558, 0.0756], grad_fn=<MeanBackward1>)\n",
      "forward-backward: tensor(0.9032, grad_fn=<SumBackward1>)\n",
      "forward-temp: tensor(0.8898, grad_fn=<SumBackward1>)\n",
      "backward-temp: tensor(0.8819, grad_fn=<SumBackward1>)\n"
     ]
    }
   ],
   "source": [
    "from alpha_zero.state_elimination.StateEliminationNNet import EmbeddingWithLSTM\n",
    "from alpha_zero.state_elimination.StateEliminationGame import *\n",
    "\n",
    "game = StateEliminationGame()\n",
    "forward = CDisj(CDisj(CConcat(CDisj(CAtom('1'),CAtom('0')),CEpsilon()),CConcat(CAtom('3'),CEpsilon())), CAtom('2'))\n",
    "backward = CDisj(CAtom('1'), CAtom('0'))\n",
    "temp = CStar(CAtom('4'))\n",
    "\n",
    "forward = torch.LongTensor(game.get_encoded_regex(forward))\n",
    "backward = torch.LongTensor(game.get_encoded_regex(backward))\n",
    "temp = torch.LongTensor(game.get_encoded_regex(temp))\n",
    "\n",
    "model = EmbeddingWithLSTM()\n",
    "model.load_state_dict(torch.load(\"./alpha_zero/state_elimination/embed_lstm.pth\"))\n",
    "\n",
    "model.eval()\n",
    "forward = model(forward)\n",
    "forward = forward.mean(dim=-1)\n",
    "backward = model(backward)\n",
    "backward = backward.mean(dim=-1)\n",
    "temp = model(temp)\n",
    "temp = temp.mean(dim=-1)\n",
    "\n",
    "print(\"forward:\", forward)\n",
    "print(\"backward:\", backward)\n",
    "print(\"temp:\", temp)\n",
    "\n",
    "calc = torch.nn.CosineSimilarity(dim=-1)\n",
    "print(\"forward-backward:\", calc(forward, backward))\n",
    "print(\"forward-temp:\", calc(forward, temp))\n",
    "print(\"backward-temp:\", calc(backward, temp))\n"
   ]
  }
 ],
 "metadata": {
  "kernelspec": {
   "display_name": ".venv",
   "language": "python",
   "name": "python3"
  },
  "language_info": {
   "codemirror_mode": {
    "name": "ipython",
    "version": 3
   },
   "file_extension": ".py",
   "mimetype": "text/x-python",
   "name": "python",
   "nbconvert_exporter": "python",
   "pygments_lexer": "ipython3",
   "version": "3.10.11"
  },
  "orig_nbformat": 4
 },
 "nbformat": 4,
 "nbformat_minor": 2
}
