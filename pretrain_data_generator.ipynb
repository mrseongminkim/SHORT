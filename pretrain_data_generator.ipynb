{
 "cells": [
  {
   "cell_type": "code",
   "execution_count": null,
   "metadata": {},
   "outputs": [],
   "source": [
    "import csv\n",
    "\n",
    "from FAdo.reex import *\n",
    "\n",
    "from utils.random_nfa_generator import generate\n",
    "\n",
    "number_of_data = 10_000\n",
    "\n",
    "with open(\"./pretrain_data.csv\", \"w\", newline='') as fp:\n",
    "    writer = csv.writer(fp)\n",
    "    for i in range(number_of_data):\n",
    "        \n"
   ]
  }
 ],
 "metadata": {
  "language_info": {
   "name": "python"
  },
  "orig_nbformat": 4
 },
 "nbformat": 4,
 "nbformat_minor": 2
}
