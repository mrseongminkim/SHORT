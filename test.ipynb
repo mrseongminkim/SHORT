{
 "cells": [
  {
   "cell_type": "code",
   "execution_count": 142,
   "metadata": {},
   "outputs": [],
   "source": [
    "import time\n",
    "import logging\n",
    "import os\n",
    "import random\n",
    "import csv\n",
    "\n",
    "import numpy as np\n",
    "import coloredlogs\n",
    "from FAdo.conversions import *\n",
    "\n",
    "from utils.data_loader import *\n",
    "from utils.heuristics import *\n",
    "\n",
    "from alpha_zero.Coach import Coach\n",
    "from alpha_zero.MCTS import MCTS\n",
    "from alpha_zero.utils import *\n",
    "from alpha_zero.state_elimination.StateEliminationGame import StateEliminationGame as Game\n",
    "from alpha_zero.state_elimination.pytorch.NNet import NNetWrapper as nn\n"
   ]
  },
  {
   "cell_type": "code",
   "execution_count": 143,
   "metadata": {},
   "outputs": [],
   "source": [
    "log = logging.getLogger(__name__)\n",
    "coloredlogs.install(level='INFO')\n",
    "args = dotdict({\n",
    "    'numIters': 1000,\n",
    "    # Number of complete self-play games to simulate during a new iteration.\n",
    "    'numEps': 100,\n",
    "    'tempThreshold': 0,        # temperature hyperparameters\n",
    "    # During arena playoff, new neural net will be accepted if threshold or more of games are won.\n",
    "    'updateThreshold': 0.6,\n",
    "    # Number of game examples to train the neural networks.\n",
    "    'maxlenOfQueue': 200000,\n",
    "    'numMCTSSims': 25,          # Number of games moves for MCTS to simulate.\n",
    "    # Number of games to play during arena play to determine if new net will be accepted.\n",
    "    'arenaCompare': 40,\n",
    "    'cpuct': 1,\n",
    "    'checkpoint': './alpha_zero/models/',\n",
    "    'load_model': True,\n",
    "    'load_folder_file': ('./alpha_zero/models/', 'best.pth.tar'),\n",
    "    'numItersForTrainExamplesHistory': 20,\n",
    "})\n",
    "min_n = 3\n",
    "max_n = 8\n",
    "n_range = max_n - min_n + 1\n",
    "alphabet = [2]\n",
    "density = [0.2]\n",
    "sample_size = 30\n"
   ]
  },
  {
   "cell_type": "code",
   "execution_count": 144,
   "metadata": {},
   "outputs": [],
   "source": [
    "def test_heuristics():\n",
    "    if not os.path.isfile('./result/heuristics_experiment_result.pkl'):\n",
    "        with open('./result/heuristics_experiment_result.pkl', 'rb') as fp:\n",
    "            exp = load(fp)\n",
    "            return exp\n",
    "    else:\n",
    "        data = load_data()\n",
    "        exp = [[[[[0, 0] for d in range(len(density))] for k in range(\n",
    "            len(alphabet))] for n in range(n_range)] for c in range(6)]\n",
    "        for n in range(n_range):\n",
    "            for k in range(len(alphabet)):\n",
    "                for d in range(len(density)):\n",
    "                    for i in range(sample_size):\n",
    "                        random.seed(i)\n",
    "                        print('n' + str(n + min_n) + 'k' + ('2' if not k else ('5' if k == 1 else '10')) + (\n",
    "                            's' if not d else 'd') + '\\'s ' + str(i + 1) + ' sample')\n",
    "                        # eliminate_randomly\n",
    "                        gfa = data[n][k][d][i].dup()\n",
    "                        start_time = time.time()\n",
    "                        result = eliminate_randomly(gfa)\n",
    "                        end_time = time.time()\n",
    "                        result_time = end_time - start_time\n",
    "                        result_size = result.treeLength()\n",
    "                        exp[0][n][k][d][0] += result_time\n",
    "                        exp[0][n][k][d][1] += result_size\n",
    "\n",
    "                        # decompose with eliminate_randomly\n",
    "                        gfa = data[n][k][d][i].dup()\n",
    "                        start_time = time.time()\n",
    "                        result = decompose(gfa, False, False)\n",
    "                        end_time = time.time()\n",
    "                        result_time = end_time - start_time\n",
    "                        result_size = result.treeLength()\n",
    "                        exp[1][n][k][d][0] += result_time\n",
    "                        exp[1][n][k][d][1] += result_size\n",
    "\n",
    "                        # eliminate_by_state_weight_heuristic\n",
    "                        gfa = data[n][k][d][i].dup()\n",
    "                        start_time = time.time()\n",
    "                        result = eliminate_by_state_weight_heuristic(gfa)\n",
    "                        end_time = time.time()\n",
    "                        result_time = end_time - start_time\n",
    "                        result_size = result.treeLength()\n",
    "                        exp[2][n][k][d][0] += result_time\n",
    "                        exp[2][n][k][d][1] += result_size\n",
    "\n",
    "                        # decompose + eliminate_by_state_weight_heuristic\n",
    "                        gfa = data[n][k][d][i].dup()\n",
    "                        start_time = time.time()\n",
    "                        result = decompose(gfa, True, False)\n",
    "                        end_time = time.time()\n",
    "                        result_time = end_time - start_time\n",
    "                        result_size = result.treeLength()\n",
    "                        exp[3][n][k][d][0] += result_time\n",
    "                        exp[3][n][k][d][1] += result_size\n",
    "\n",
    "                        # eliminate_by_repeated_state_weight_heuristic\n",
    "                        gfa = data[n][k][d][i].dup()\n",
    "                        start_time = time.time()\n",
    "                        result = eliminate_by_repeated_state_weight_heuristic(\n",
    "                            gfa)\n",
    "                        end_time = time.time()\n",
    "                        result_time = end_time - start_time\n",
    "                        result_size = result.treeLength()\n",
    "                        exp[4][n][k][d][0] += result_time\n",
    "                        exp[4][n][k][d][1] += result_size\n",
    "\n",
    "                        # decompose + eliminate_by_repeated_state_weight_heuristic\n",
    "                        gfa = data[n][k][d][i].dup()\n",
    "                        start_time = time.time()\n",
    "                        result = decompose(gfa, True, True)\n",
    "                        end_time = time.time()\n",
    "                        result_time = end_time - start_time\n",
    "                        result_size = result.treeLength()\n",
    "                        exp[5][n][k][d][0] += result_time\n",
    "                        exp[5][n][k][d][1] += result_size\n",
    "        with open('./result/heuristics_experiment_result.pkl', 'wb') as fp:\n",
    "            dump(exp, fp)\n"
   ]
  },
  {
   "cell_type": "code",
   "execution_count": 145,
   "metadata": {},
   "outputs": [],
   "source": [
    "# exp = test_heuristics()"
   ]
  },
  {
   "cell_type": "code",
   "execution_count": 146,
   "metadata": {},
   "outputs": [],
   "source": [
    "import pandas as pd"
   ]
  },
  {
   "cell_type": "code",
   "execution_count": 147,
   "metadata": {},
   "outputs": [],
   "source": [
    "def test_alpha_zero():\n",
    "    if not os.path.isfile('./result/alpha_zero_experiment_result.pkl'):\n",
    "        with open('./result/alpha_zero_experiment_result.pkl', 'rb') as fp:\n",
    "            exp = load(fp)\n",
    "        with open('./result/c7.csv', 'w', newline='') as fp:\n",
    "            writer = csv.writer(fp)\n",
    "            for n in range(5 - 3, 11 - 3):\n",
    "                size_value = exp[n][1][0][1] / 100\n",
    "                writer.writerow([size_value])\n",
    "    else:\n",
    "        data = load_data()\n",
    "        exp = [[[[0, 0] for d in range(len(density))] for k in range(\n",
    "            len(alphabet))] for n in range(n_range)]\n",
    "        g = Game()\n",
    "        nnet = nn(g)\n",
    "        mcts = MCTS(g, nnet, args)\n",
    "        def player(x): return np.argmax(mcts.getActionProb(x, temp=0))\n",
    "        curPlayer = 1\n",
    "        if args.load_model:\n",
    "            nnet.load_checkpoint(args.checkpoint, args.load_folder_file[1])\n",
    "        else:\n",
    "            print(\"Can't test without pre-trained model\")\n",
    "            exit()\n",
    "        for n in range(n_range):\n",
    "            for k in range(len(alphabet)):\n",
    "                for d in range(len(density)):\n",
    "                    for i in range(sample_size):\n",
    "                        #print('n' + str(n + min_n) + 'k' + ('2' if not k else ('5' if k == 1 else '10')) + (\n",
    "                        #    's' if not d else 'd') + '\\'s ' + str(i + 1) + ' sample')\n",
    "                        gfa = data[n][k][d][i].dup()\n",
    "                        board = g.getInitBoard(\n",
    "                            gfa, n + min_n, alphabet[k], density[d])\n",
    "                        order = []\n",
    "                        start_time = time.time()\n",
    "                        while g.getGameEnded(board, curPlayer) == -1:\n",
    "                            action = player(\n",
    "                                g.getCanonicalForm(board, curPlayer))\n",
    "                            valids = g.getValidMoves(\n",
    "                                g.getCanonicalForm(board, curPlayer), 1)\n",
    "                            if valids[action] == 0:\n",
    "                                assert valids[action] > 0\n",
    "                            board, curPlayer = g.getNextState(\n",
    "                                board, curPlayer, action)\n",
    "                            order.append(action)\n",
    "                            \n",
    "                        result = g.gfaToBoard(board)[0][n + min_n + 1].treeLength()\n",
    "                        end_time = time.time()\n",
    "                        gfa.eliminateAll(order)\n",
    "                        '''\n",
    "                        if (result != gfa.delta[0][n + min_n + 1].treeLength()):\n",
    "                            print('order', order)\n",
    "                            print('result length', result)\n",
    "                            print('valid length',\n",
    "                                  gfa.delta[0][n + min_n + 1].treeLength())\n",
    "                            print('Something is wrong')\n",
    "                            exit()\n",
    "                        '''\n",
    "                        result_time = end_time - start_time\n",
    "                        exp[n][k][d][0] += result_time\n",
    "                        exp[n][k][d][1] += result\n",
    "        with open('./result/alpha_zero_experiment_result.pkl', 'wb') as fp:\n",
    "            dump(exp, fp)"
   ]
  },
  {
   "cell_type": "code",
   "execution_count": 148,
   "metadata": {},
   "outputs": [],
   "source": [
    "test_alpha_zero()"
   ]
  },
  {
   "cell_type": "code",
   "execution_count": null,
   "metadata": {},
   "outputs": [],
   "source": [
    "with open('./result/alpha_zero_experiment_result.pkl', 'rb') as fp:\n",
    "    exp_alpha = load(fp)\n",
    "\n",
    "with open('./result/heuristics_experiment_result.pkl', 'rb') as fp:\n",
    "    exp_heuristic = load(fp)"
   ]
  },
  {
   "cell_type": "code",
   "execution_count": null,
   "metadata": {},
   "outputs": [
    {
     "data": {
      "text/plain": [
       "[[0.015770673751831055, 372.0],\n",
       " [0.02125382423400879, 752.0],\n",
       " [0.025895357131958008, 1839.0],\n",
       " [0.0336301326751709, 3093.0],\n",
       " [0.05150318145751953, 8606.0],\n",
       " [0.08024716377258301, 19352.0]]"
      ]
     },
     "execution_count": 140,
     "metadata": {},
     "output_type": "execute_result"
    }
   ],
   "source": [
    "np.array(exp_heuristic[5][:6])[:, 0, 0].tolist()"
   ]
  },
  {
   "cell_type": "code",
   "execution_count": null,
   "metadata": {},
   "outputs": [
    {
     "data": {
      "text/plain": [
       "[[[[0.546905517578125, 74]]],\n",
       " [[[1.4073143005371094, 177]]],\n",
       " [[[3.773301839828491, 595]]],\n",
       " [[[9.00179934501648, 1385]]],\n",
       " [[[28.578489065170288, 5166]]],\n",
       " [[[120.01312184333801, 21606]]]]"
      ]
     },
     "execution_count": 141,
     "metadata": {},
     "output_type": "execute_result"
    }
   ],
   "source": [
    "exp_alpha"
   ]
  },
  {
   "cell_type": "code",
   "execution_count": 105,
   "metadata": {},
   "outputs": [
    {
     "data": {
      "text/plain": [
       "[[[[0.5762872695922852, 76]]],\n",
       " [[[1.3665142059326172, 173]]],\n",
       " [[[3.897165060043335, 595]]],\n",
       " [[[10.418294429779053, 1636]]]]"
      ]
     },
     "execution_count": 105,
     "metadata": {},
     "output_type": "execute_result"
    }
   ],
   "source": [
    "exp_alpha\n"
   ]
  },
  {
   "cell_type": "code",
   "execution_count": 22,
   "metadata": {},
   "outputs": [
    {
     "data": {
      "text/plain": [
       "[[[[0.015770673751831055, 372], [0.020870208740234375, 1408]],\n",
       "  [[0.025353431701660156, 1350], [0.04005026817321777, 3863]],\n",
       "  [[0.03676748275756836, 3326], [0.08379054069519043, 8032]]],\n",
       " [[[0.02125382423400879, 752], [0.044689178466796875, 5316]],\n",
       "  [[0.04623866081237793, 4206], [0.08870840072631836, 17065]],\n",
       "  [[0.0786600112915039, 12673], [0.2022247314453125, 38010]]],\n",
       " [[[0.025895357131958008, 1839], [0.07112789154052734, 18355]],\n",
       "  [[0.06750774383544922, 13243], [1.5291893482208252, 68571]],\n",
       "  [[0.1848142147064209, 47462], [1.8073883056640625, 136901]]],\n",
       " [[[0.0336301326751709, 3093], [0.16398978233337402, 60595]],\n",
       "  [[0.13657927513122559, 40205], [3.4006781578063965, 293525]],\n",
       "  [[0.4982781410217285, 152565], [4.538684368133545, 639854]]],\n",
       " [[[0.05150318145751953, 8606], [3.042722463607788, 217070]],\n",
       "  [[2.996006965637207, 139377], [12.025941610336304, 943944]],\n",
       "  [[7.127958536148071, 632047], [24.530405282974243, 2350448]]],\n",
       " [[[0.08024716377258301, 19352], [5.416334390640259, 603999]],\n",
       "  [[3.7289764881134033, 446131], [35.13379693031311, 3826879]],\n",
       "  [[21.667481899261475, 2074666], [97.01929044723511, 8925419]]]]"
      ]
     },
     "execution_count": 22,
     "metadata": {},
     "output_type": "execute_result"
    }
   ],
   "source": [
    "exp_heuristic[5]"
   ]
  },
  {
   "cell_type": "code",
   "execution_count": null,
   "metadata": {},
   "outputs": [],
   "source": []
  }
 ],
 "metadata": {
  "kernelspec": {
   "display_name": "venv38-6D1UywTv",
   "language": "python",
   "name": "python3"
  },
  "language_info": {
   "codemirror_mode": {
    "name": "ipython",
    "version": 3
   },
   "file_extension": ".py",
   "mimetype": "text/x-python",
   "name": "python",
   "nbconvert_exporter": "python",
   "pygments_lexer": "ipython3",
   "version": "3.8.0"
  },
  "orig_nbformat": 4
 },
 "nbformat": 4,
 "nbformat_minor": 2
}
