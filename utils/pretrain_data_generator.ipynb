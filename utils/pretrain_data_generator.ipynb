{
 "cells": [
  {
   "cell_type": "code",
   "execution_count": 9,
   "metadata": {},
   "outputs": [],
   "source": [
    "import csv\n",
    "import random\n",
    "\n",
    "from FAdo.reex import *\n",
    "from FAdo.conversions import *\n",
    "\n",
    "from utils.random_nfa_generator import generate\n",
    "from utils.heuristics import *\n",
    "\n",
    "number_of_nfa_pairs = 10\n",
    "minimization = True\n",
    "\n",
    "def get_regex(gfa: GFA) -> list[RegExp]:\n",
    "    regex = set()\n",
    "    temp = gfa.dup()\n",
    "    regex.add(eliminate_randomly(temp, minimization))\n",
    "    temp = gfa.dup()\n",
    "    regex.add(decompose(temp, False, False, minimization))\n",
    "    temp = gfa.dup()\n",
    "    regex.add(eliminate_by_state_weight_heuristic(temp, minimization))\n",
    "    temp = gfa.dup()\n",
    "    regex.add(decompose(temp, True, False, minimization))\n",
    "    temp = gfa.dup()\n",
    "    regex.add(eliminate_by_repeated_state_weight_heuristic(temp, minimization))\n",
    "    temp = gfa.dup()\n",
    "    regex.add(decompose(temp, True, True, minimization))\n",
    "    return list(regex)\n",
    "\n",
    "def get_positive_rows(regex: list) -> list[tuple]:\n",
    "    rows = []\n",
    "    for i in range(0, len(regex)):\n",
    "        for j in range(i + 1, len(regex)):\n",
    "            rows.append((str(regex[i]), str(regex[j]), 1))\n",
    "    return rows\n",
    "\n",
    "def get_negative_rows(first_regex: list, second_regex: list) -> list[tuple]:\n",
    "    rows = []\n",
    "    for i in range(0, len(first_regex)):\n",
    "        for j in range(0, len(second_regex)):\n",
    "            rows.append((str(first_regex[i]), str(second_regex[j]), 0))\n",
    "    return rows\n",
    "\n",
    "with open(\"./pretrain_data.csv\", \"w\", newline='') as fp:\n",
    "    writer = csv.writer(fp)\n",
    "    for i in range(number_of_nfa_pairs):\n",
    "        n = random.randint(3, 3)\n",
    "        #n = 10\n",
    "        k = 5\n",
    "        d = 0.1\n",
    "        first_gfa = generate(n, k, d, 'in-memory')\n",
    "        second_gfa = generate(n, k, d, 'in-memory')\n",
    "        first_regex = get_regex(first_gfa)\n",
    "        second_regex = get_regex(second_gfa)\n",
    "        #reject if two regex describe same set of language\n",
    "        if first_regex[-1].compare(second_regex[-1]):\n",
    "            continue\n",
    "        #write positive cases\n",
    "        writer.writerows(get_positive_rows(first_regex) + get_positive_rows(second_regex))\n",
    "        #write negative cases\n",
    "        writer.writerows(get_negative_rows(first_regex, second_regex))\n",
    "        del first_regex, second_regex, first_gfa, second_gfa\n"
   ]
  }
 ],
 "metadata": {
  "kernelspec": {
   "display_name": "Python 3",
   "language": "python",
   "name": "python3"
  },
  "language_info": {
   "codemirror_mode": {
    "name": "ipython",
    "version": 3
   },
   "file_extension": ".py",
   "mimetype": "text/x-python",
   "name": "python",
   "nbconvert_exporter": "python",
   "pygments_lexer": "ipython3",
   "version": "3.10.6"
  },
  "orig_nbformat": 4,
  "vscode": {
   "interpreter": {
    "hash": "916dbcbb3f70747c44a77c7bcd40155683ae19c65e1c03b4aa3499c5328201f1"
   }
  }
 },
 "nbformat": 4,
 "nbformat_minor": 2
}
